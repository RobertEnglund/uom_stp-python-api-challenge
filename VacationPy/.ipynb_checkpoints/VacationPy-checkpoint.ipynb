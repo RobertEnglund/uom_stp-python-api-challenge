{
 "cells": [
  {
   "cell_type": "code",
   "execution_count": null,
   "metadata": {},
   "outputs": [],
   "source": [
    "#  Working with weather data to plan future vacations\n",
    "\n",
    "#  To do: Get countries and add to heat map\n",
    "#  General clean up"
   ]
  },
  {
   "cell_type": "code",
   "execution_count": 1,
   "metadata": {},
   "outputs": [],
   "source": [
    "# Dependencies\n",
    "import gmaps\n",
    "import gmaps.datasets\n",
    "import json\n",
    "import matplotlib.pyplot as plt\n",
    "import numpy as np\n",
    "import pandas as pd\n",
    "import requests\n",
    "\n",
    "from geopy.geocoders import Nominatim\n",
    "from config import gkey"
   ]
  },
  {
   "cell_type": "code",
   "execution_count": 2,
   "metadata": {},
   "outputs": [],
   "source": [
    "# Access maps with unique API key\n",
    "gmaps.configure(api_key=gkey)"
   ]
  },
  {
   "cell_type": "code",
   "execution_count": 3,
   "metadata": {},
   "outputs": [
    {
     "data": {
      "text/html": [
       "<div>\n",
       "<style scoped>\n",
       "    .dataframe tbody tr th:only-of-type {\n",
       "        vertical-align: middle;\n",
       "    }\n",
       "\n",
       "    .dataframe tbody tr th {\n",
       "        vertical-align: top;\n",
       "    }\n",
       "\n",
       "    .dataframe thead th {\n",
       "        text-align: right;\n",
       "    }\n",
       "</style>\n",
       "<table border=\"1\" class=\"dataframe\">\n",
       "  <thead>\n",
       "    <tr style=\"text-align: right;\">\n",
       "      <th></th>\n",
       "      <th>City</th>\n",
       "      <th>Latitude</th>\n",
       "      <th>Longitude</th>\n",
       "      <th>Temperature</th>\n",
       "      <th>Humidity</th>\n",
       "      <th>Wind</th>\n",
       "      <th>Clouds</th>\n",
       "    </tr>\n",
       "  </thead>\n",
       "  <tbody>\n",
       "    <tr>\n",
       "      <th>0</th>\n",
       "      <td>Ribeira Grande</td>\n",
       "      <td>38.52</td>\n",
       "      <td>-28.70</td>\n",
       "      <td>68.92</td>\n",
       "      <td>93</td>\n",
       "      <td>20.22</td>\n",
       "      <td>100</td>\n",
       "    </tr>\n",
       "    <tr>\n",
       "      <th>1</th>\n",
       "      <td>Yellowknife</td>\n",
       "      <td>62.46</td>\n",
       "      <td>-114.35</td>\n",
       "      <td>12.06</td>\n",
       "      <td>92</td>\n",
       "      <td>8.05</td>\n",
       "      <td>75</td>\n",
       "    </tr>\n",
       "    <tr>\n",
       "      <th>2</th>\n",
       "      <td>Westport</td>\n",
       "      <td>41.14</td>\n",
       "      <td>-73.36</td>\n",
       "      <td>31.51</td>\n",
       "      <td>80</td>\n",
       "      <td>5.82</td>\n",
       "      <td>1</td>\n",
       "    </tr>\n",
       "    <tr>\n",
       "      <th>3</th>\n",
       "      <td>Wajir</td>\n",
       "      <td>1.75</td>\n",
       "      <td>40.06</td>\n",
       "      <td>77.88</td>\n",
       "      <td>69</td>\n",
       "      <td>12.19</td>\n",
       "      <td>41</td>\n",
       "    </tr>\n",
       "    <tr>\n",
       "      <th>4</th>\n",
       "      <td>Rapid Valley</td>\n",
       "      <td>44.06</td>\n",
       "      <td>-103.15</td>\n",
       "      <td>55.76</td>\n",
       "      <td>49</td>\n",
       "      <td>14.99</td>\n",
       "      <td>1</td>\n",
       "    </tr>\n",
       "  </tbody>\n",
       "</table>\n",
       "</div>"
      ],
      "text/plain": [
       "             City  Latitude  Longitude  Temperature  Humidity   Wind  Clouds\n",
       "0  Ribeira Grande     38.52     -28.70        68.92        93  20.22     100\n",
       "1     Yellowknife     62.46    -114.35        12.06        92   8.05      75\n",
       "2        Westport     41.14     -73.36        31.51        80   5.82       1\n",
       "3           Wajir      1.75      40.06        77.88        69  12.19      41\n",
       "4    Rapid Valley     44.06    -103.15        55.76        49  14.99       1"
      ]
     },
     "execution_count": 3,
     "metadata": {},
     "output_type": "execute_result"
    }
   ],
   "source": [
    "# Create a heat map that displays the humidity for every city from the part I \n",
    "\n",
    "# get cities from part I\n",
    "cities_df = pd.read_csv(\"..\\WeatherPy\\WeatherPy_output.csv\")\n",
    "\n",
    "# capitalize city names - didn't do that in Part I\n",
    "cities_df[\"City\"] = cities_df.City.str.title()\n",
    "cities_df.head()"
   ]
  },
  {
   "cell_type": "code",
   "execution_count": 4,
   "metadata": {
    "scrolled": true
   },
   "outputs": [],
   "source": [
    "# get parameters for heatmap\n",
    "humidity = cities_df[\"Humidity\"].astype(float)\n",
    "maxhumidity = humidity.max()\n",
    "locations = cities_df[[\"Latitude\", \"Longitude\"]]\n"
   ]
  },
  {
   "cell_type": "code",
   "execution_count": 5,
   "metadata": {},
   "outputs": [
    {
     "data": {
      "application/vnd.jupyter.widget-view+json": {
       "model_id": "d0e5a6a261574129a57dcfbb0fa1873e",
       "version_major": 2,
       "version_minor": 0
      },
      "text/plain": [
       "Figure(layout=FigureLayout(height='420px'))"
      ]
     },
     "metadata": {},
     "output_type": "display_data"
    }
   ],
   "source": [
    "# generate heatmap\n",
    "fig = gmaps.figure(center=(20,0),zoom_level=2)\n",
    "heat_layer = gmaps.heatmap_layer(locations, weights=humidity,\n",
    "                                 dissipating=False, max_intensity=maxhumidity,\n",
    "                                 point_radius=3)\n",
    "fig.add_layer(heat_layer)\n",
    "fig"
   ]
  },
  {
   "cell_type": "code",
   "execution_count": 6,
   "metadata": {},
   "outputs": [
    {
     "name": "stdout",
     "output_type": "stream",
     "text": [
      "21\n"
     ]
    },
    {
     "data": {
      "text/html": [
       "<div>\n",
       "<style scoped>\n",
       "    .dataframe tbody tr th:only-of-type {\n",
       "        vertical-align: middle;\n",
       "    }\n",
       "\n",
       "    .dataframe tbody tr th {\n",
       "        vertical-align: top;\n",
       "    }\n",
       "\n",
       "    .dataframe thead th {\n",
       "        text-align: right;\n",
       "    }\n",
       "</style>\n",
       "<table border=\"1\" class=\"dataframe\">\n",
       "  <thead>\n",
       "    <tr style=\"text-align: right;\">\n",
       "      <th></th>\n",
       "      <th>City</th>\n",
       "      <th>Latitude</th>\n",
       "      <th>Longitude</th>\n",
       "      <th>Temperature</th>\n",
       "      <th>Humidity</th>\n",
       "      <th>Wind</th>\n",
       "      <th>Clouds</th>\n",
       "    </tr>\n",
       "  </thead>\n",
       "  <tbody>\n",
       "    <tr>\n",
       "      <th>12</th>\n",
       "      <td>Hasaki</td>\n",
       "      <td>35.73</td>\n",
       "      <td>140.83</td>\n",
       "      <td>65.16</td>\n",
       "      <td>45</td>\n",
       "      <td>13.87</td>\n",
       "      <td>20</td>\n",
       "    </tr>\n",
       "    <tr>\n",
       "      <th>27</th>\n",
       "      <td>Guerrero Negro</td>\n",
       "      <td>27.98</td>\n",
       "      <td>-114.06</td>\n",
       "      <td>66.87</td>\n",
       "      <td>61</td>\n",
       "      <td>8.72</td>\n",
       "      <td>28</td>\n",
       "    </tr>\n",
       "    <tr>\n",
       "      <th>29</th>\n",
       "      <td>Merritt Island</td>\n",
       "      <td>28.54</td>\n",
       "      <td>-80.67</td>\n",
       "      <td>67.12</td>\n",
       "      <td>77</td>\n",
       "      <td>4.70</td>\n",
       "      <td>20</td>\n",
       "    </tr>\n",
       "    <tr>\n",
       "      <th>91</th>\n",
       "      <td>Victoria</td>\n",
       "      <td>22.29</td>\n",
       "      <td>114.16</td>\n",
       "      <td>73.47</td>\n",
       "      <td>62</td>\n",
       "      <td>4.00</td>\n",
       "      <td>31</td>\n",
       "    </tr>\n",
       "    <tr>\n",
       "      <th>135</th>\n",
       "      <td>Ohara</td>\n",
       "      <td>35.25</td>\n",
       "      <td>140.38</td>\n",
       "      <td>64.22</td>\n",
       "      <td>45</td>\n",
       "      <td>13.87</td>\n",
       "      <td>20</td>\n",
       "    </tr>\n",
       "  </tbody>\n",
       "</table>\n",
       "</div>"
      ],
      "text/plain": [
       "               City  Latitude  Longitude  Temperature  Humidity   Wind  Clouds\n",
       "12           Hasaki     35.73     140.83        65.16        45  13.87      20\n",
       "27   Guerrero Negro     27.98    -114.06        66.87        61   8.72      28\n",
       "29   Merritt Island     28.54     -80.67        67.12        77   4.70      20\n",
       "91         Victoria     22.29     114.16        73.47        62   4.00      31\n",
       "135           Ohara     35.25     140.38        64.22        45  13.87      20"
      ]
     },
     "execution_count": 6,
     "metadata": {},
     "output_type": "execute_result"
    }
   ],
   "source": [
    "# Using Google Places API to find the first hotel for each city located within 5000 meters of your coordinates.\n",
    "\n",
    "ideal_cities_df = (cities_df.loc[(cities_df[\"Temperature\"] > 60) & (cities_df[\"Temperature\"] < 80)  \n",
    "              & (cities_df[\"Wind\"] < 15) \n",
    "              & (cities_df[\"Clouds\"] > 15) & (cities_df[\"Clouds\"] < 35), :])\n",
    "\n",
    "\n",
    "print(len(ideal_cities_df))\n",
    "ideal_cities_df.head()\n"
   ]
  },
  {
   "cell_type": "code",
   "execution_count": 7,
   "metadata": {},
   "outputs": [
    {
     "data": {
      "text/html": [
       "<div>\n",
       "<style scoped>\n",
       "    .dataframe tbody tr th:only-of-type {\n",
       "        vertical-align: middle;\n",
       "    }\n",
       "\n",
       "    .dataframe tbody tr th {\n",
       "        vertical-align: top;\n",
       "    }\n",
       "\n",
       "    .dataframe thead th {\n",
       "        text-align: right;\n",
       "    }\n",
       "</style>\n",
       "<table border=\"1\" class=\"dataframe\">\n",
       "  <thead>\n",
       "    <tr style=\"text-align: right;\">\n",
       "      <th></th>\n",
       "      <th>City</th>\n",
       "      <th>Latitude</th>\n",
       "      <th>Longitude</th>\n",
       "      <th>Temperature</th>\n",
       "      <th>Humidity</th>\n",
       "      <th>Wind</th>\n",
       "      <th>Clouds</th>\n",
       "    </tr>\n",
       "  </thead>\n",
       "  <tbody>\n",
       "    <tr>\n",
       "      <th>0</th>\n",
       "      <td>Hasaki</td>\n",
       "      <td>35.73</td>\n",
       "      <td>140.83</td>\n",
       "      <td>65.16</td>\n",
       "      <td>45</td>\n",
       "      <td>13.87</td>\n",
       "      <td>20</td>\n",
       "    </tr>\n",
       "    <tr>\n",
       "      <th>1</th>\n",
       "      <td>Guerrero Negro</td>\n",
       "      <td>27.98</td>\n",
       "      <td>-114.06</td>\n",
       "      <td>66.87</td>\n",
       "      <td>61</td>\n",
       "      <td>8.72</td>\n",
       "      <td>28</td>\n",
       "    </tr>\n",
       "    <tr>\n",
       "      <th>2</th>\n",
       "      <td>Merritt Island</td>\n",
       "      <td>28.54</td>\n",
       "      <td>-80.67</td>\n",
       "      <td>67.12</td>\n",
       "      <td>77</td>\n",
       "      <td>4.70</td>\n",
       "      <td>20</td>\n",
       "    </tr>\n",
       "    <tr>\n",
       "      <th>3</th>\n",
       "      <td>Victoria</td>\n",
       "      <td>22.29</td>\n",
       "      <td>114.16</td>\n",
       "      <td>73.47</td>\n",
       "      <td>62</td>\n",
       "      <td>4.00</td>\n",
       "      <td>31</td>\n",
       "    </tr>\n",
       "    <tr>\n",
       "      <th>4</th>\n",
       "      <td>Ohara</td>\n",
       "      <td>35.25</td>\n",
       "      <td>140.38</td>\n",
       "      <td>64.22</td>\n",
       "      <td>45</td>\n",
       "      <td>13.87</td>\n",
       "      <td>20</td>\n",
       "    </tr>\n",
       "  </tbody>\n",
       "</table>\n",
       "</div>"
      ],
      "text/plain": [
       "             City  Latitude  Longitude  Temperature  Humidity   Wind  Clouds\n",
       "0          Hasaki     35.73     140.83        65.16        45  13.87      20\n",
       "1  Guerrero Negro     27.98    -114.06        66.87        61   8.72      28\n",
       "2  Merritt Island     28.54     -80.67        67.12        77   4.70      20\n",
       "3        Victoria     22.29     114.16        73.47        62   4.00      31\n",
       "4           Ohara     35.25     140.38        64.22        45  13.87      20"
      ]
     },
     "execution_count": 7,
     "metadata": {},
     "output_type": "execute_result"
    }
   ],
   "source": [
    "# reset the index\n",
    "# was getting warnings from next set of code before adding this\n",
    "# selecting subset preserved orginal index - guessing that screwed up the for-loop\n",
    "ideal_cities_df = ideal_cities_df.dropna(how='any')\n",
    "ideal_cities_df.reset_index(inplace=True)\n",
    "del ideal_cities_df['index']\n",
    "ideal_cities_df.head()"
   ]
  },
  {
   "cell_type": "code",
   "execution_count": 13,
   "metadata": {
    "scrolled": true
   },
   "outputs": [
    {
     "name": "stdout",
     "output_type": "stream",
     "text": [
      "21\n"
     ]
    },
    {
     "data": {
      "text/html": [
       "<div>\n",
       "<style scoped>\n",
       "    .dataframe tbody tr th:only-of-type {\n",
       "        vertical-align: middle;\n",
       "    }\n",
       "\n",
       "    .dataframe tbody tr th {\n",
       "        vertical-align: top;\n",
       "    }\n",
       "\n",
       "    .dataframe thead th {\n",
       "        text-align: right;\n",
       "    }\n",
       "</style>\n",
       "<table border=\"1\" class=\"dataframe\">\n",
       "  <thead>\n",
       "    <tr style=\"text-align: right;\">\n",
       "      <th></th>\n",
       "      <th>City</th>\n",
       "      <th>Latitude</th>\n",
       "      <th>Longitude</th>\n",
       "      <th>Temperature</th>\n",
       "      <th>Humidity</th>\n",
       "      <th>Wind</th>\n",
       "      <th>Clouds</th>\n",
       "      <th>Hotel</th>\n",
       "      <th>Country</th>\n",
       "    </tr>\n",
       "  </thead>\n",
       "  <tbody>\n",
       "    <tr>\n",
       "      <th>0</th>\n",
       "      <td>Hasaki</td>\n",
       "      <td>35.73</td>\n",
       "      <td>140.83</td>\n",
       "      <td>65.16</td>\n",
       "      <td>45</td>\n",
       "      <td>13.87</td>\n",
       "      <td>20</td>\n",
       "      <td>Inubosaki Kanko Hotel</td>\n",
       "      <td>Japan</td>\n",
       "    </tr>\n",
       "    <tr>\n",
       "      <th>1</th>\n",
       "      <td>Guerrero Negro</td>\n",
       "      <td>27.98</td>\n",
       "      <td>-114.06</td>\n",
       "      <td>66.87</td>\n",
       "      <td>61</td>\n",
       "      <td>8.72</td>\n",
       "      <td>28</td>\n",
       "      <td>Bimbo</td>\n",
       "      <td>Mexico</td>\n",
       "    </tr>\n",
       "    <tr>\n",
       "      <th>2</th>\n",
       "      <td>Merritt Island</td>\n",
       "      <td>28.54</td>\n",
       "      <td>-80.67</td>\n",
       "      <td>67.12</td>\n",
       "      <td>77</td>\n",
       "      <td>4.70</td>\n",
       "      <td>20</td>\n",
       "      <td>Prototype Development Laboratory</td>\n",
       "      <td>United States of America</td>\n",
       "    </tr>\n",
       "    <tr>\n",
       "      <th>3</th>\n",
       "      <td>Victoria</td>\n",
       "      <td>22.29</td>\n",
       "      <td>114.16</td>\n",
       "      <td>73.47</td>\n",
       "      <td>62</td>\n",
       "      <td>4.00</td>\n",
       "      <td>31</td>\n",
       "      <td>Four Seasons Hotel Hong Kong</td>\n",
       "      <td>China</td>\n",
       "    </tr>\n",
       "    <tr>\n",
       "      <th>4</th>\n",
       "      <td>Ohara</td>\n",
       "      <td>35.25</td>\n",
       "      <td>140.38</td>\n",
       "      <td>64.22</td>\n",
       "      <td>45</td>\n",
       "      <td>13.87</td>\n",
       "      <td>20</td>\n",
       "      <td>Isabaya</td>\n",
       "      <td>Japan</td>\n",
       "    </tr>\n",
       "  </tbody>\n",
       "</table>\n",
       "</div>"
      ],
      "text/plain": [
       "             City  Latitude  Longitude  Temperature  Humidity   Wind  Clouds  \\\n",
       "0          Hasaki     35.73     140.83        65.16        45  13.87      20   \n",
       "1  Guerrero Negro     27.98    -114.06        66.87        61   8.72      28   \n",
       "2  Merritt Island     28.54     -80.67        67.12        77   4.70      20   \n",
       "3        Victoria     22.29     114.16        73.47        62   4.00      31   \n",
       "4           Ohara     35.25     140.38        64.22        45  13.87      20   \n",
       "\n",
       "                              Hotel                    Country  \n",
       "0             Inubosaki Kanko Hotel                      Japan  \n",
       "1                             Bimbo                     Mexico  \n",
       "2  Prototype Development Laboratory   United States of America  \n",
       "3      Four Seasons Hotel Hong Kong                      China  \n",
       "4                           Isabaya                      Japan  "
      ]
     },
     "execution_count": 13,
     "metadata": {},
     "output_type": "execute_result"
    }
   ],
   "source": [
    "# get a hotel in each ideal city\n",
    "# this takes a little while to execute\n",
    "\n",
    "#setup\n",
    "hotels = []\n",
    "countries = []\n",
    "base_url = \"https://maps.googleapis.com/maps/api/place/nearbysearch/json\"\n",
    "geolocator = Nominatim(user_agent=\"RobertE_schoolwork\")\n",
    "\n",
    "#loop through ideal cities to get country and hotel\n",
    "for index, row in ideal_cities_df.iterrows():\n",
    "    lat = row['Latitude']\n",
    "    lon = row['Longitude']\n",
    "    params = {\n",
    "        \"location\": f\"{lat},{lon}\",\n",
    "        \"radius\": 5000,\n",
    "        \"types\" : \"hotel\",\n",
    "        \"key\": gkey\n",
    "    }\n",
    "\n",
    "    # get country from geopy\n",
    "    geoloc_data = geolocator.reverse(f\"{lat},{lon}\",language=\"en\")\n",
    "    countries.append(geoloc_data.address.split(\",\")[-1])\n",
    "\n",
    "    # get hotel from google\n",
    "    request_output = requests.get(base_url, params=params)\n",
    "    formatted_output = request_output.json()\n",
    "    try:\n",
    "        hotels.append(formatted_output['results'][1]['name'])\n",
    "    except:\n",
    "        hotels.append(\"No hotel found\")\n",
    "\n",
    "# add country and hotel data to ideal cities dataframe\n",
    "ideal_cities_df[\"Hotel\"] = hotels\n",
    "ideal_cities_df[\"Country\"] = countries\n",
    "print(len(ideal_cities_df))\n",
    "ideal_cities_df.head()"
   ]
  },
  {
   "cell_type": "code",
   "execution_count": 14,
   "metadata": {},
   "outputs": [],
   "source": [
    "# Next cell disables scrollable frame in jupyter\n",
    "# src: https://stackoverflow.com/questions/41641205/how-to-avoid-output-into-scrollable-frames-in-jupyter-notebook\n",
    "\n",
    "# adding comment here because jupyter doesn't seem to like it when I add comments in same cell as %%javascript\n",
    "# (all text on the # line turns red)\n",
    "# to do: find out more about code in next cell"
   ]
  },
  {
   "cell_type": "code",
   "execution_count": 15,
   "metadata": {},
   "outputs": [
    {
     "data": {
      "application/javascript": [
       "IPython.OutputArea.prototype._should_scroll = function(lines) {\n",
       "    return false;\n",
       "}\n"
      ],
      "text/plain": [
       "<IPython.core.display.Javascript object>"
      ]
     },
     "metadata": {},
     "output_type": "display_data"
    }
   ],
   "source": [
    "%%javascript\n",
    "IPython.OutputArea.prototype._should_scroll = function(lines) {\n",
    "    return false;\n",
    "}"
   ]
  },
  {
   "cell_type": "code",
   "execution_count": 16,
   "metadata": {
    "scrolled": true
   },
   "outputs": [
    {
     "data": {
      "application/vnd.jupyter.widget-view+json": {
       "model_id": "d0e5a6a261574129a57dcfbb0fa1873e",
       "version_major": 2,
       "version_minor": 0
      },
      "text/plain": [
       "Figure(layout=FigureLayout(height='420px'))"
      ]
     },
     "metadata": {},
     "output_type": "display_data"
    }
   ],
   "source": [
    "info_box_template = \"\"\"\n",
    "<dl>\n",
    "<dt>Name</dt><dd>{Hotel}</dd>\n",
    "<dt>City</dt><dd>{City}</dd>\n",
    "<dt>Country</dt><dd>{Country}</dd>\n",
    "</dl>\n",
    "\"\"\"\n",
    "\n",
    "# Store the DataFrame Row\n",
    "hotel_info = [info_box_template.format(**row) for index, row in ideal_cities_df.iterrows()]\n",
    "locations = ideal_cities_df[[\"Latitude\", \"Longitude\"]]\n",
    "markers = gmaps.marker_layer(locations, info_box_content=hotel_info)\n",
    "fig.add_layer(markers)\n",
    "fig\n"
   ]
  },
  {
   "cell_type": "code",
   "execution_count": null,
   "metadata": {},
   "outputs": [],
   "source": []
  }
 ],
 "metadata": {
  "anaconda-cloud": {},
  "kernelspec": {
   "display_name": "Python 3",
   "language": "python",
   "name": "python3"
  },
  "language_info": {
   "codemirror_mode": {
    "name": "ipython",
    "version": 3
   },
   "file_extension": ".py",
   "mimetype": "text/x-python",
   "name": "python",
   "nbconvert_exporter": "python",
   "pygments_lexer": "ipython3",
   "version": "3.6.10"
  }
 },
 "nbformat": 4,
 "nbformat_minor": 2
}
